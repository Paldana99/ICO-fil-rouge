{
 "cells": [
  {
   "cell_type": "markdown",
   "id": "fff4bec5",
   "metadata": {},
   "source": [
    "# Méthode RS"
   ]
  },
  {
   "cell_type": "code",
   "execution_count": 1,
   "id": "29c71002",
   "metadata": {},
   "outputs": [],
   "source": [
    "from cost import *\n",
    "from rs_fct import *"
   ]
  },
  {
   "cell_type": "code",
   "execution_count": 2,
   "id": "0fc27af1",
   "metadata": {},
   "outputs": [],
   "source": [
    "# taille de la matrice : nombre de client + 1 (0: dépot) mij i->j\n",
    "matrice_example = np.matrix([[0, 14, 18, 9, 5, 7], \n",
    "           [14, 0, 12, 4, 17, 1],\n",
    "           [18, 12, 0, 3, 2, 1],\n",
    "           [9, 4, 3, 0, 4, 8],\n",
    "           [5, 17, 2, 4, 0, 11],\n",
    "           [7, 1, 1, 8, 11, 0]])"
   ]
  },
  {
   "cell_type": "code",
   "execution_count": 3,
   "id": "0cf7e8f8",
   "metadata": {},
   "outputs": [
    {
     "data": {
      "text/plain": [
       "(88, 94)"
      ]
     },
     "execution_count": 3,
     "metadata": {},
     "output_type": "execute_result"
    }
   ],
   "source": [
    "sol_example = [[1, 2, 5], [4, 3]]\n",
    "sol_example2 = [[1, 3, 5], [2, 4]]\n",
    "\n",
    "(cout(sol_example, matrice_example, 18),cout(sol_example2, matrice_example, 18))"
   ]
  },
  {
   "cell_type": "code",
   "execution_count": 4,
   "id": "27d0208a",
   "metadata": {},
   "outputs": [
    {
     "name": "stdout",
     "output_type": "stream",
     "text": [
      "best: 107, current: 107\n",
      "best: 101, current: 101\n",
      "best: 100, current: 100\n",
      "best: 100, current: 100\n",
      "best: 95, current: 95\n",
      "best: 95, current: 124\n",
      "best: 95, current: 106\n",
      "best: 95, current: 124\n",
      "best: 95, current: 124\n",
      "best: 95, current: 106\n",
      "best: 95, current: 106\n",
      "best: 95, current: 106\n",
      "best: 95, current: 106\n",
      "best: 95, current: 106\n",
      "best: 77, current: 77\n",
      "best: 77, current: 77\n",
      "best: 77, current: 106\n",
      "best: 77, current: 106\n",
      "best: 77, current: 106\n",
      "best: 77, current: 94\n",
      "best: 77, current: 94\n",
      "best: 77, current: 94\n",
      "best: 77, current: 82\n",
      "best: 77, current: 82\n",
      "best: 77, current: 82\n",
      "best: 77, current: 82\n",
      "best: 77, current: 82\n",
      "best: 77, current: 82\n",
      "best: 77, current: 82\n",
      "best: 77, current: 82\n",
      "best: 77, current: 78\n",
      "best: 77, current: 77\n",
      "best: 77, current: 77\n",
      "best: 77, current: 77\n",
      "best: 77, current: 77\n",
      "best: 77, current: 78\n",
      "best: 77, current: 78\n",
      "best: 77, current: 78\n",
      "best: 77, current: 78\n",
      "best: 77, current: 77\n",
      "best: 77, current: 77\n",
      "best: 77, current: 77\n",
      "best: 77, current: 77\n",
      "best: 77, current: 77\n",
      "best: 77, current: 77\n",
      "best: 77, current: 77\n",
      "best: 77, current: 77\n",
      "best: 77, current: 77\n",
      "best: 77, current: 77\n",
      "best: 77, current: 77\n",
      "best: 77, current: 77\n",
      "best: 77, current: 77\n",
      "best: 77, current: 77\n",
      "best: 77, current: 77\n",
      "best: 77, current: 77\n",
      "best: 77, current: 77\n",
      "best: 77, current: 77\n",
      "best: 77, current: 77\n",
      "best: 77, current: 77\n",
      "best: 77, current: 77\n",
      "best: 77, current: 77\n",
      "best: 77, current: 77\n",
      "best: 77, current: 77\n",
      "best: 77, current: 77\n",
      "best: 77, current: 77\n",
      "best: 77, current: 77\n",
      "best: 77, current: 77\n",
      "best: 77, current: 77\n",
      "best: 77, current: 77\n",
      "best: 77, current: 77\n"
     ]
    },
    {
     "data": {
      "text/plain": [
       "([[4], [3], [], [1, 5, 2]], 77)"
      ]
     },
     "execution_count": 4,
     "metadata": {},
     "output_type": "execute_result"
    }
   ],
   "source": [
    "max_capacity = 100\n",
    "capacities_example = [20, 40, 50, 70, 30]\n",
    "recuit([[1], [4, 3], [2], [5]], matrice_example, 5, 200, 0.2, 10, capacities_example, max_capacity)"
   ]
  },
  {
   "cell_type": "code",
   "execution_count": 5,
   "id": "5360d410",
   "metadata": {},
   "outputs": [],
   "source": [
    "from mesa import Agent, Model\n",
    "from mesa.time import RandomActivation"
   ]
  },
  {
   "cell_type": "code",
   "execution_count": 8,
   "id": "af1b8428",
   "metadata": {},
   "outputs": [
    {
     "name": "stdout",
     "output_type": "stream",
     "text": [
      "best: 62, current: 77\n",
      "best: 62, current: 94\n",
      "best: 62, current: 78\n",
      "best: 62, current: 93\n",
      "best: 62, current: 93\n",
      "best: 62, current: 77\n",
      "best: 62, current: 93\n",
      "best: 62, current: 100\n",
      "best: 62, current: 101\n",
      "best: 62, current: 101\n",
      "best: 62, current: 111\n",
      "best: 62, current: 101\n",
      "best: 62, current: 94\n",
      "best: 62, current: 77\n",
      "best: 62, current: 77\n",
      "best: 62, current: 96\n",
      "best: 62, current: 95\n",
      "best: 62, current: 77\n",
      "best: 62, current: 96\n",
      "best: 62, current: 95\n",
      "best: 62, current: 95\n",
      "best: 62, current: 77\n",
      "best: 62, current: 77\n",
      "best: 62, current: 77\n",
      "best: 62, current: 77\n",
      "best: 62, current: 78\n",
      "best: 62, current: 77\n",
      "best: 62, current: 77\n",
      "best: 62, current: 78\n",
      "best: 62, current: 78\n",
      "best: 62, current: 77\n",
      "best: 62, current: 77\n",
      "best: 62, current: 78\n",
      "best: 62, current: 78\n",
      "best: 62, current: 77\n",
      "best: 62, current: 77\n",
      "best: 62, current: 78\n",
      "best: 62, current: 78\n",
      "best: 62, current: 77\n",
      "best: 62, current: 77\n",
      "best: 62, current: 77\n",
      "best: 62, current: 77\n",
      "best: 62, current: 77\n",
      "best: 62, current: 77\n",
      "best: 62, current: 77\n",
      "best: 62, current: 77\n",
      "best: 62, current: 77\n",
      "best: 62, current: 77\n",
      "best: 62, current: 77\n",
      "best: 62, current: 77\n",
      "62 [[1, 2, 5], [4, 3]]\n"
     ]
    }
   ],
   "source": [
    "class RSAgent(Agent):\n",
    "    \"\"\"An agent with initial solution.\"\"\"\n",
    "    t0 = 200\n",
    "    a = 0.2\n",
    "    n_iter_cycle = 10\n",
    "    def __init__(self, unique_id, sol_init, matrice, w, capacities, max_capacity, model):\n",
    "        super().__init__(unique_id, model)\n",
    "        self.sol_init, self.matrice, self.w, self.capacities, self.max_capacity = sol_init, matrice, w, capacities, max_capacity\n",
    "        self.result_cost = np.Inf\n",
    "\n",
    "    def step(self):\n",
    "        result = recuit(self.sol_init, self.matrice, self.w, self.t0, self.a, self.n_iter_cycle, self.capacities, self.max_capacity)\n",
    "        self.result_cost = result[1]\n",
    "        self.result_sol = result[0]\n",
    "        print(self.result_cost, self.result_sol)\n",
    "\n",
    "\n",
    "class MyModel(Model):\n",
    "    \"\"\"A model with some number of agents.\"\"\"\n",
    "    pool = []\n",
    "    def __init__(self, N, matrice, w, capacities, max_capacity, sol_init):\n",
    "        self.num_agents = N\n",
    "        self.schedule = RandomActivation(self)\n",
    "        # Create agents\n",
    "        for i in range(self.num_agents):\n",
    "            a = RSAgent(i, sol_init, matrice, w, capacities, max_capacity, self)\n",
    "            self.schedule.add(a)\n",
    "\n",
    "    def step(self):\n",
    "        \"\"\"Advance the model by one step.\"\"\"\n",
    "        self.schedule.step()\n",
    "\n",
    "\n",
    "model = MyModel(1, matrice_example, 5, capacities_example, max_capacity, sol_example)\n",
    "for i in range(1):\n",
    "    model.step()"
   ]
  }
 ],
 "metadata": {
  "kernelspec": {
   "display_name": "Python 3",
   "language": "python",
   "name": "python3"
  },
  "language_info": {
   "codemirror_mode": {
    "name": "ipython",
    "version": 3
   },
   "file_extension": ".py",
   "mimetype": "text/x-python",
   "name": "python",
   "nbconvert_exporter": "python",
   "pygments_lexer": "ipython3",
   "version": "3.9.7"
  }
 },
 "nbformat": 4,
 "nbformat_minor": 5
}
