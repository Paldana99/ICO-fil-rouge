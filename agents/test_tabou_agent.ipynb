{
 "cells": [
  {
   "cell_type": "markdown",
   "id": "fff4bec5",
   "metadata": {},
   "source": [
    "# Agent tabou"
   ]
  },
  {
   "cell_type": "code",
   "execution_count": 1,
   "id": "29c71002",
   "metadata": {},
   "outputs": [],
   "source": [
    "from cost import *\n",
    "from tabou_fct import tabu\n",
    "import numpy as np"
   ]
  },
  {
   "cell_type": "code",
   "execution_count": 2,
   "id": "0fc27af1",
   "metadata": {},
   "outputs": [],
   "source": [
    "matrice_example = np.matrix([[0, 14, 18, 9, 5, 7], \n",
    "           [14, 0, 12, 4, 17, 1],\n",
    "           [18, 12, 0, 3, 2, 1],\n",
    "           [9, 4, 3, 0, 4, 8],\n",
    "           [5, 17, 2, 4, 0, 11],\n",
    "           [7, 1, 1, 8, 11, 0]])"
   ]
  },
  {
   "cell_type": "code",
   "execution_count": 3,
   "id": "0cf7e8f8",
   "metadata": {},
   "outputs": [],
   "source": [
    "sol_example = [[1, 2, 5], [4, 3]]"
   ]
  },
  {
   "cell_type": "code",
   "execution_count": 4,
   "id": "85af27a5",
   "metadata": {},
   "outputs": [
    {
     "data": {
      "text/plain": [
       "([[1, 2, 5], [4, 3]], 62)"
      ]
     },
     "execution_count": 4,
     "metadata": {},
     "output_type": "execute_result"
    }
   ],
   "source": [
    "capacities_example = [20, 40, 50, 70, 30]\n",
    "max_capacity = 100\n",
    "tabu([[1, 2, 5], [4, 3]], matrice_example, 1000, 1000, 5, capacities_example, max_capacity) "
   ]
  },
  {
   "cell_type": "code",
   "execution_count": 5,
   "id": "ebad656f",
   "metadata": {},
   "outputs": [],
   "source": [
    "from mesa import Agent, Model\n",
    "from mesa.time import RandomActivation"
   ]
  },
  {
   "cell_type": "code",
   "execution_count": 7,
   "id": "706ce7b8",
   "metadata": {},
   "outputs": [
    {
     "name": "stdout",
     "output_type": "stream",
     "text": [
      "62 [[1, 2, 5], [4, 3]]\n"
     ]
    }
   ],
   "source": [
    "class TabouAgent(Agent):\n",
    "    \"\"\"An agent with initial solution.\"\"\"\n",
    "    n_max = 1000\n",
    "    aspiration = 1000\n",
    "    def __init__(self, unique_id, sol_init, matrice, w, capacities, max_capacity, model):\n",
    "        super().__init__(unique_id, model)\n",
    "        self.sol_init, self.matrice, self.w, self.capacities, self.max_capacity = sol_init, matrice, w, capacities, max_capacity\n",
    "        self.result_cost = np.Inf\n",
    "\n",
    "    def step(self):\n",
    "        result = tabu(self.sol_init, self.matrice, self.n_max, self.aspiration, self.w, self.capacities, self.max_capacity)\n",
    "        self.result_cost = result[1]\n",
    "        self.result_sol = result[0]\n",
    "        print(self.result_cost, self.result_sol)\n",
    "\n",
    "\n",
    "class MyModel(Model):\n",
    "    \"\"\"A model with some number of agents.\"\"\"\n",
    "    pool = []\n",
    "    def __init__(self, N, matrice, w, capacities, max_capacity, sol_init):\n",
    "        self.num_agents = N\n",
    "        self.schedule = RandomActivation(self)\n",
    "        # Create agents\n",
    "        for i in range(self.num_agents):\n",
    "            a = TabouAgent(i, sol_init, matrice, w, capacities, max_capacity, self)\n",
    "            self.schedule.add(a)\n",
    "\n",
    "    def step(self):\n",
    "        \"\"\"Advance the model by one step.\"\"\"\n",
    "        self.schedule.step()\n",
    "\n",
    "\n",
    "model = MyModel(1, matrice_example, 5, capacities_example, max_capacity, sol_example)\n",
    "for i in range(1):\n",
    "    model.step()"
   ]
  }
 ],
 "metadata": {
  "kernelspec": {
   "display_name": "Python 3",
   "language": "python",
   "name": "python3"
  },
  "language_info": {
   "codemirror_mode": {
    "name": "ipython",
    "version": 3
   },
   "file_extension": ".py",
   "mimetype": "text/x-python",
   "name": "python",
   "nbconvert_exporter": "python",
   "pygments_lexer": "ipython3",
   "version": "3.9.7"
  }
 },
 "nbformat": 4,
 "nbformat_minor": 5
}
